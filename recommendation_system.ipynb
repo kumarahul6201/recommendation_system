{
 "cells": [
  {
   "cell_type": "markdown",
   "id": "0883c3b9-ae33-4c1b-a5a5-1bf9c547a914",
   "metadata": {},
   "source": [
    "# Data Preprocessing"
   ]
  },
  {
   "cell_type": "code",
   "execution_count": 1,
   "id": "963776a9-0008-4f6d-84d5-9b8e0eb6f004",
   "metadata": {},
   "outputs": [
    {
     "name": "stdout",
     "output_type": "stream",
     "text": [
      "   anime_id                              name  \\\n",
      "0     32281                    Kimi no Na wa.   \n",
      "1      5114  Fullmetal Alchemist: Brotherhood   \n",
      "2     28977                          Gintama°   \n",
      "3      9253                       Steins;Gate   \n",
      "4      9969                     Gintama&#039;   \n",
      "\n",
      "                                               genre   type episodes  rating  \\\n",
      "0               Drama, Romance, School, Supernatural  Movie        1    9.37   \n",
      "1  Action, Adventure, Drama, Fantasy, Magic, Mili...     TV       64    9.26   \n",
      "2  Action, Comedy, Historical, Parody, Samurai, S...     TV       51    9.25   \n",
      "3                                   Sci-Fi, Thriller     TV       24    9.17   \n",
      "4  Action, Comedy, Historical, Parody, Samurai, S...     TV       51    9.16   \n",
      "\n",
      "   members  \n",
      "0   200630  \n",
      "1   793665  \n",
      "2   114262  \n",
      "3   673572  \n",
      "4   151266  \n",
      "Missing values:\n",
      " anime_id      0\n",
      "name          0\n",
      "genre        62\n",
      "type         25\n",
      "episodes      0\n",
      "rating      230\n",
      "members       0\n",
      "dtype: int64\n",
      "Missing values after cleaning:\n",
      " anime_id    0\n",
      "name        0\n",
      "genre       0\n",
      "type        0\n",
      "episodes    0\n",
      "rating      0\n",
      "members     0\n",
      "dtype: int64\n"
     ]
    },
    {
     "name": "stderr",
     "output_type": "stream",
     "text": [
      "C:\\Users\\Lenovo\\AppData\\Local\\Temp\\ipykernel_10668\\1602045280.py:14: FutureWarning: A value is trying to be set on a copy of a DataFrame or Series through chained assignment using an inplace method.\n",
      "The behavior will change in pandas 3.0. This inplace method will never work because the intermediate object on which we are setting values always behaves as a copy.\n",
      "\n",
      "For example, when doing 'df[col].method(value, inplace=True)', try using 'df.method({col: value}, inplace=True)' or df[col] = df[col].method(value) instead, to perform the operation inplace on the original object.\n",
      "\n",
      "\n",
      "  anime_df['genre'].fillna('Unknown', inplace=True)\n",
      "C:\\Users\\Lenovo\\AppData\\Local\\Temp\\ipykernel_10668\\1602045280.py:15: FutureWarning: A value is trying to be set on a copy of a DataFrame or Series through chained assignment using an inplace method.\n",
      "The behavior will change in pandas 3.0. This inplace method will never work because the intermediate object on which we are setting values always behaves as a copy.\n",
      "\n",
      "For example, when doing 'df[col].method(value, inplace=True)', try using 'df.method({col: value}, inplace=True)' or df[col] = df[col].method(value) instead, to perform the operation inplace on the original object.\n",
      "\n",
      "\n",
      "  anime_df['type'].fillna('Unknown', inplace=True)\n",
      "C:\\Users\\Lenovo\\AppData\\Local\\Temp\\ipykernel_10668\\1602045280.py:16: FutureWarning: A value is trying to be set on a copy of a DataFrame or Series through chained assignment using an inplace method.\n",
      "The behavior will change in pandas 3.0. This inplace method will never work because the intermediate object on which we are setting values always behaves as a copy.\n",
      "\n",
      "For example, when doing 'df[col].method(value, inplace=True)', try using 'df.method({col: value}, inplace=True)' or df[col] = df[col].method(value) instead, to perform the operation inplace on the original object.\n",
      "\n",
      "\n",
      "  anime_df['rating'].fillna(anime_df['rating'].mean(), inplace=True)\n"
     ]
    }
   ],
   "source": [
    "import pandas as pd\n",
    "\n",
    "# Load the dataset\n",
    "anime_df = pd.read_csv('anime.csv')\n",
    "\n",
    "# Display the first few rows of the dataframe\n",
    "print(anime_df.head())\n",
    "\n",
    "# Check for missing values\n",
    "missing_values = anime_df.isnull().sum()\n",
    "print(\"Missing values:\\n\", missing_values)\n",
    "\n",
    "# Fill missing values\n",
    "anime_df['genre'].fillna('Unknown', inplace=True)\n",
    "anime_df['type'].fillna('Unknown', inplace=True)\n",
    "anime_df['rating'].fillna(anime_df['rating'].mean(), inplace=True)\n",
    "\n",
    "# Verify if all missing values have been handled\n",
    "missing_values_after_cleaning = anime_df.isnull().sum()\n",
    "print(\"Missing values after cleaning:\\n\", missing_values_after_cleaning)\n"
   ]
  },
  {
   "cell_type": "markdown",
   "id": "5e064e72-0e45-435a-935b-cb58b61af616",
   "metadata": {},
   "source": [
    "# Feature Extraction"
   ]
  },
  {
   "cell_type": "code",
   "execution_count": 2,
   "id": "d4bdf429-ced8-443c-a3a7-14360b4b2ee4",
   "metadata": {},
   "outputs": [
    {
     "name": "stdout",
     "output_type": "stream",
     "text": [
      "   anime_id                              name  rating  genre_Action  \\\n",
      "0     32281                    Kimi no Na wa.    9.37           0.0   \n",
      "1      5114  Fullmetal Alchemist: Brotherhood    9.26           0.0   \n",
      "2     28977                          Gintama°    9.25           0.0   \n",
      "3      9253                       Steins;Gate    9.17           0.0   \n",
      "4      9969                     Gintama&#039;    9.16           0.0   \n",
      "\n",
      "   genre_Action, Adventure  \\\n",
      "0                      0.0   \n",
      "1                      0.0   \n",
      "2                      0.0   \n",
      "3                      0.0   \n",
      "4                      0.0   \n",
      "\n",
      "   genre_Action, Adventure, Cars, Comedy, Sci-Fi, Shounen  \\\n",
      "0                                                0.0        \n",
      "1                                                0.0        \n",
      "2                                                0.0        \n",
      "3                                                0.0        \n",
      "4                                                0.0        \n",
      "\n",
      "   genre_Action, Adventure, Cars, Mecha, Sci-Fi, Shounen, Sports  \\\n",
      "0                                                0.0               \n",
      "1                                                0.0               \n",
      "2                                                0.0               \n",
      "3                                                0.0               \n",
      "4                                                0.0               \n",
      "\n",
      "   genre_Action, Adventure, Cars, Sci-Fi  genre_Action, Adventure, Comedy  \\\n",
      "0                                    0.0                              0.0   \n",
      "1                                    0.0                              0.0   \n",
      "2                                    0.0                              0.0   \n",
      "3                                    0.0                              0.0   \n",
      "4                                    0.0                              0.0   \n",
      "\n",
      "   genre_Action, Adventure, Comedy, Demons, Drama, Ecchi, Horror, Mystery, Romance, Sci-Fi  \\\n",
      "0                                                0.0                                         \n",
      "1                                                0.0                                         \n",
      "2                                                0.0                                         \n",
      "3                                                0.0                                         \n",
      "4                                                0.0                                         \n",
      "\n",
      "   ...  genre_Slice of Life, Supernatural  genre_Space  genre_Sports  \\\n",
      "0  ...                                0.0          0.0           0.0   \n",
      "1  ...                                0.0          0.0           0.0   \n",
      "2  ...                                0.0          0.0           0.0   \n",
      "3  ...                                0.0          0.0           0.0   \n",
      "4  ...                                0.0          0.0           0.0   \n",
      "\n",
      "   genre_Super Power, Supernatural, Vampire  genre_Supernatural  \\\n",
      "0                                       0.0                 0.0   \n",
      "1                                       0.0                 0.0   \n",
      "2                                       0.0                 0.0   \n",
      "3                                       0.0                 0.0   \n",
      "4                                       0.0                 0.0   \n",
      "\n",
      "   genre_Thriller  genre_Unknown  genre_Vampire  genre_Yaoi  \\\n",
      "0             0.0            0.0            0.0         0.0   \n",
      "1             0.0            0.0            0.0         0.0   \n",
      "2             0.0            0.0            0.0         0.0   \n",
      "3             0.0            0.0            0.0         0.0   \n",
      "4             0.0            0.0            0.0         0.0   \n",
      "\n",
      "   members_normalized  \n",
      "0            0.197872  \n",
      "1            0.782770  \n",
      "2            0.112689  \n",
      "3            0.664325  \n",
      "4            0.149186  \n",
      "\n",
      "[5 rows x 3269 columns]\n"
     ]
    }
   ],
   "source": [
    "from sklearn.preprocessing import OneHotEncoder, MinMaxScaler\n",
    "\n",
    "# One-hot encode the 'genre' column\n",
    "onehot_encoder = OneHotEncoder()\n",
    "genre_encoded = onehot_encoder.fit_transform(anime_df[['genre']]).toarray()\n",
    "genre_df = pd.DataFrame(genre_encoded, columns=onehot_encoder.get_feature_names_out(['genre']))\n",
    "\n",
    "# Normalize the 'members' column\n",
    "scaler = MinMaxScaler()\n",
    "members_normalized = scaler.fit_transform(anime_df[['members']])\n",
    "members_df = pd.DataFrame(members_normalized, columns=['members_normalized'])\n",
    "\n",
    "# Combine the original dataframe with the encoded and normalized features\n",
    "anime_features_df = pd.concat([anime_df[['anime_id', 'name', 'rating']], genre_df, members_df], axis=1)\n",
    "\n",
    "# Display the first few rows of the processed dataframe\n",
    "print(anime_features_df.head())\n"
   ]
  },
  {
   "cell_type": "markdown",
   "id": "a2102c32-3ff3-4b5d-b32d-12c838792f6f",
   "metadata": {},
   "source": [
    "# Recommendation System"
   ]
  },
  {
   "cell_type": "code",
   "execution_count": 4,
   "id": "7e21d924-bee6-4c3a-9c7a-534cd493ca99",
   "metadata": {},
   "outputs": [
    {
     "name": "stdout",
     "output_type": "stream",
     "text": [
      "                                          name  rating  \\\n",
      "5805               Wind: A Breath of Heart OVA    6.35   \n",
      "6394              Wind: A Breath of Heart (TV)    6.14   \n",
      "10464  Taka no Tsume 8: Yoshida-kun no X-Files   10.00   \n",
      "10400              Spoon-hime no Swing Kitchen    9.60   \n",
      "9595                          Mogura no Motoro    9.50   \n",
      "\n",
      "                                      genre   type episodes  members  \n",
      "5805   Drama, Romance, School, Supernatural    OVA        3     2043  \n",
      "6394   Drama, Romance, School, Supernatural     TV       13     7778  \n",
      "10464                        Comedy, Parody  Movie        1       13  \n",
      "10400                       Adventure, Kids     TV  Unknown       47  \n",
      "9595                          Slice of Life  Movie        1       62  \n"
     ]
    }
   ],
   "source": [
    "from sklearn.metrics.pairwise import cosine_similarity\n",
    "\n",
    "def recommend_anime(anime_name, num_recommendations=5):\n",
    "    # Find the index of the target anime\n",
    "    target_anime = anime_features_df[anime_features_df['name'] == anime_name].index[0]\n",
    "    \n",
    "    # Compute the cosine similarity matrix\n",
    "    similarity_matrix = cosine_similarity(anime_features_df.drop(['anime_id', 'name'], axis=1))\n",
    "    \n",
    "    # Get the indices of the most similar animes\n",
    "    similar_indices = similarity_matrix[target_anime].argsort()[::-1][1:num_recommendations + 1]\n",
    "    \n",
    "    # Return the recommended animes\n",
    "    return anime_df.iloc[similar_indices][['name', 'rating', 'genre', 'type', 'episodes', 'members']]\n",
    "\n",
    "# Example usage\n",
    "recommendations = recommend_anime('Kimi no Na wa.')\n",
    "print(recommendations)\n"
   ]
  },
  {
   "cell_type": "markdown",
   "id": "6a5a742c-4d77-453f-a19b-085542a70078",
   "metadata": {},
   "source": [
    "#  Evaluation"
   ]
  },
  {
   "cell_type": "code",
   "execution_count": 5,
   "id": "878777c6-1c2a-44f9-a58b-860940391fd9",
   "metadata": {},
   "outputs": [
    {
     "name": "stdout",
     "output_type": "stream",
     "text": [
      "Precision: 0.2, Recall: 0.00040666937779585197, F1-score: 0.0008116883116883117\n"
     ]
    }
   ],
   "source": [
    "from sklearn.model_selection import train_test_split\n",
    "from sklearn.metrics import precision_score, recall_score, f1_score\n",
    "\n",
    "# Split the dataset into training and testing sets\n",
    "train_df, test_df = train_test_split(anime_df, test_size=0.2, random_state=42)\n",
    "\n",
    "# Assuming we have a function to get recommendations\n",
    "# and a way to measure true positives, false positives, and false negatives\n",
    "\n",
    "\n",
    "def evaluate_recommendation_system(test_anime_name):\n",
    "    recommendations = recommend_anime(test_anime_name)\n",
    "    recommended_anime_names = recommendations['name'].values\n",
    "    \n",
    "    # Calculate precision, recall, and F1-score\n",
    "    true_positives = sum(test_df['name'].isin(recommended_anime_names))\n",
    "    false_positives = len(recommended_anime_names) - true_positives\n",
    "    false_negatives = len(test_df) - true_positives\n",
    "    \n",
    "    precision = true_positives / (true_positives + false_positives)\n",
    "    recall = true_positives / (true_positives + false_negatives)\n",
    "    f1 = 2 * (precision * recall) / (precision + recall)\n",
    "    \n",
    "    return precision, recall, f1\n",
    "\n",
    "# evaluation\n",
    "precision, recall, f1 = evaluate_recommendation_system('Kimi no Na wa.')\n",
    "print(f\"Precision: {precision}, Recall: {recall}, F1-score: {f1}\")\n"
   ]
  },
  {
   "cell_type": "code",
   "execution_count": null,
   "id": "2d790d18-3e48-47c5-84c8-cbebec52a754",
   "metadata": {},
   "outputs": [],
   "source": []
  }
 ],
 "metadata": {
  "kernelspec": {
   "display_name": "Python 3 (ipykernel)",
   "language": "python",
   "name": "python3"
  },
  "language_info": {
   "codemirror_mode": {
    "name": "ipython",
    "version": 3
   },
   "file_extension": ".py",
   "mimetype": "text/x-python",
   "name": "python",
   "nbconvert_exporter": "python",
   "pygments_lexer": "ipython3",
   "version": "3.11.5"
  }
 },
 "nbformat": 4,
 "nbformat_minor": 5
}
